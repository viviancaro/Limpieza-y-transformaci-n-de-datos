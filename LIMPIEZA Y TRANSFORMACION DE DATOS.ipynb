{
 "cells": [
  {
   "cell_type": "markdown",
   "metadata": {},
   "source": [
    "# Limpieza y tranformación de datos del mercado inmobiliario en la Ciudad de Buenos Aires"
   ]
  },
  {
   "cell_type": "markdown",
   "metadata": {},
   "source": [
    "Este segundo proyecto, que es una continuación del proyecto Exploración de datos, se continua trabajando con el dataset \n",
    "de propiedades en venta publicadas en el portal [Properati](www.properati.com.ar). El objetivo es seguir con la limpieza de datos, remover valores faltantes y outliers. Ademas, se agregan nuevos atributos basados en los datos."
   ]
  },
  {
   "cell_type": "markdown",
   "metadata": {},
   "source": [
    "## Dataset: Propiedades en venta, Buenos Aires\n",
    "El dataset que se utiliza en este proyecto corresponde a una muestra de propiedades en venta, publicado en la página de Properati (www.properati.com.ar), en el cual, cada fila es una propiedad en venta. \n",
    "<br><br>Este dataset ha sido filtrado en el proyecto anterior, para trabajar solo con casas (house), departamentos (apartment) y PH (PH). También están hechas las correcciones de coordenadas y superficies incorrectas. "
   ]
  },
  {
   "cell_type": "markdown",
   "metadata": {},
   "source": [
    "## Atributos\n",
    "Los atributos que contiene esta muestra son:\n",
    "\n",
    "* **id**: id de la propiedad\n",
    "* **created_on**: fecha de ingreso al sitio de la propiedad\n",
    "* **operation**: alquiler (rent) o venta (sell)\n",
    "* **property_type**: tipo de propiedad (casa, departamento, ph, etcétera)\n",
    "* **place_with_parent_names**: ubicación de la propiedad según el publicador\n",
    "* **lat-lon**: coordenadas concatenadas\n",
    "* **lat**: latitud\n",
    "* **lon**: longitud\n",
    "* **price**: precio en la moneda especificada en currency\n",
    "* **currency**: divisa en la que está expresada la publicación\n",
    "* **price_aprox_usd**: precio aproximado en dólares estadounidenses\n",
    "* **surface_total_in_m2**: superficie total (en metros cuadrados)\n",
    "* **surface_covered_in_m2**: superficie cubierta (en metros cuadrados)\n",
    "* **price_usd_per_m2**: precio por metro cuadrado en dólares (precio dólares / superficie)\n",
    "* **floor**: número de piso (si corresponde)\n",
    "* **rooms**: cantidad de ambientes\n",
    "* **expenses**: expensas (si corresponde)\n",
    "* **barrio**: barrio según cartografía oficial\n",
    "* **properati_url**: url de la publicación en Properati\n",
    "\n",
    "Para proceder con la exploración de los datos, incluyendo limpieza y visualización del dataset, es necesario  importar bibliotecas como numpy, pandas, matplotlib.pylab y seaborn. "
   ]
  },
  {
   "cell_type": "code",
   "execution_count": 1,
   "metadata": {},
   "outputs": [],
   "source": [
    "import matplotlib.pyplot as plt\n",
    "%matplotlib inline\n",
    "import seaborn as sns\n",
    "import pandas as pd\n",
    "import numpy as np\n",
    "\n",
    "MAX_ROWS = 10\n",
    "pd.set_option('display.max_rows', MAX_ROWS)\n",
    "pd.set_option('display.max_columns', 200)\n",
    " \n",
    "sns.set_style(\"whitegrid\")\n",
    "sns.set_context(\"paper\")\n",
    "\n",
    "plt.rcParams['figure.figsize'] = (12,5)"
   ]
  },
  {
   "cell_type": "code",
   "execution_count": 2,
   "metadata": {},
   "outputs": [],
   "source": [
    "#path_dataset = 'dataset/datos_properati_limpios.csv'\n",
    "#df = pd.read_csv(path_dataset, parse_dates=['created_on'])\n",
    "df = pd.read_csv(\"datos_properati_limpios.csv\", parse_dates=['created_on'])"
   ]
  },
  {
   "cell_type": "code",
   "execution_count": 3,
   "metadata": {},
   "outputs": [
    {
     "data": {
      "text/plain": [
       "Index(['created_on', 'property_type', 'place_name', 'place_with_parent_names',\n",
       "       'lat', 'lon', 'price_aprox_usd', 'surface_total_in_m2',\n",
       "       'surface_covered_in_m2', 'price_usd_per_m2', 'floor', 'rooms',\n",
       "       'expenses', 'properati_url', 'barrio'],\n",
       "      dtype='object')"
      ]
     },
     "execution_count": 3,
     "metadata": {},
     "output_type": "execute_result"
    }
   ],
   "source": [
    "df.columns"
   ]
  },
  {
   "cell_type": "code",
   "execution_count": 4,
   "metadata": {},
   "outputs": [
    {
     "name": "stdout",
     "output_type": "stream",
     "text": [
      "El dataset que vamos a trabajar aquí tiene 13756 observaciones\n"
     ]
    }
   ],
   "source": [
    "print(\"El dataset que vamos a trabajar aquí tiene {} observaciones\".format(df.shape[0]))"
   ]
  },
  {
   "cell_type": "markdown",
   "metadata": {},
   "source": [
    "### Outliers"
   ]
  },
  {
   "cell_type": "markdown",
   "metadata": {},
   "source": [
    "En primer lugar se analizan los valores extremos que puede haber en los precios y en las superficies, Esta medida es útil para luego imputar usando medidas de tendencia central, como el promedio. Como estas medidas pueden ser sensibles a outliers, la imputación de valores faltantes puede verse afectada.\n",
    "\n",
    "Puede surgir duda sobre la conveniencia de imputar faltantes y luego remover outliers, o realizarlo en orden contrario. Al imputar, se modifica la distribución de los datos, es por eso que las cotas que se utilicen para definir los outliers se verán afectadas por este cambio y modificarán los resultados finales. Por ello es conveniente comenzar quitando outliers.\n",
    "\n",
    "En este punto se trabaja con \"price_usd_per_m2\". Precios altos pueden corresponder a grandes superficies, por lo que conviene analizar juntos ambos atributos. A continuación, se ve la distribución de los valores y un boxplot para comenzar a identificar los outliers."
   ]
  },
  {
   "cell_type": "markdown",
   "metadata": {},
   "source": [
    "**1.** Se utiliza **Seaborn** para hacer un \"distplot\" del precio por metro cuadrado. Adicionalmente, se hace un \"drop\" de los valores `NaN` de esta columna antes de graficar."
   ]
  },
  {
   "cell_type": "code",
   "execution_count": 5,
   "metadata": {},
   "outputs": [
    {
     "data": {
      "image/png": "[encoded data removed]",
      "text/plain": [
       "<Figure size 432x288 with 1 Axes>"
      ]
     },
     "metadata": {
      "needs_background": "light"
     },
     "output_type": "display_data"
    }
   ],
   "source": [
    "df.dropna(subset=['price_usd_per_m2'])\n",
    "x=df['price_usd_per_m2'].dropna()\n",
    "sns.distplot(x,kde=False)         \n",
    "plt.show()"
   ]
  },
  {
   "cell_type": "markdown",
   "metadata": {},
   "source": [
    "**2.** Se muestra un \"boxplot\" de la columna 'price_usd_per_m2'."
   ]
  },
  {
   "cell_type": "code",
   "execution_count": 6,
   "metadata": {},
   "outputs": [
    {
     "data": {
      "image/png": "[encoded data removed]",
      "text/plain": [
       "<Figure size 432x288 with 1 Axes>"
      ]
     },
     "metadata": {
      "needs_background": "light"
     },
     "output_type": "display_data"
    }
   ],
   "source": [
    "x=df['price_usd_per_m2'].dropna()\n",
    "sns.boxplot(x)         \n",
    "plt.show()"
   ]
  },
  {
   "cell_type": "markdown",
   "metadata": {},
   "source": [
    "Analizando los gráficos anteriores se puede concluir que existen valores extremos u outliers en esta columna, los cuales podrían afectar la estimación de ciertos parámetros estadísticos como la media. Para confirmar de nuevo la presencia de outliers se observarán los percentiles mas adelante."
   ]
  },
  {
   "cell_type": "markdown",
   "metadata": {},
   "source": [
    "**3. Parámetros Estadísticos** sobre la columna 'price_usd_per_m2':"
   ]
  },
  {
   "cell_type": "code",
   "execution_count": 7,
   "metadata": {},
   "outputs": [
    {
     "data": {
      "text/plain": [
       "count     12973.000000\n",
       "mean       2695.065767\n",
       "std        1773.086831\n",
       "min           0.958333\n",
       "25%        1959.183673\n",
       "50%        2510.204082\n",
       "75%        3125.000000\n",
       "max      142450.141026\n",
       "Name: price_usd_per_m2, dtype: float64"
      ]
     },
     "execution_count": 7,
     "metadata": {},
     "output_type": "execute_result"
    }
   ],
   "source": [
    "df.price_usd_per_m2.describe()"
   ]
  },
  {
   "cell_type": "markdown",
   "metadata": {},
   "source": [
    "Como existen valores extremos en ambas puntas de la distribución, se aplica la técnica del rango intercuartílico para limpiarlos. Se obtiene el rango calculando la diferencia entre el tercer y el primer cuartil. Luego en base a esto se calculan los valores mínimos y máximos para definir cuáles observaciones serán descartadas.\n",
    "\n",
    "**4. Rango intercuartílico**"
   ]
  },
  {
   "cell_type": "code",
   "execution_count": 8,
   "metadata": {},
   "outputs": [
    {
     "data": {
      "text/plain": [
       "0.25    1959.183673\n",
       "0.75    3125.000000\n",
       "Name: price_usd_per_m2, dtype: float64"
      ]
     },
     "execution_count": 8,
     "metadata": {},
     "output_type": "execute_result"
    }
   ],
   "source": [
    "df.price_usd_per_m2.quantile([0.25,0.75])"
   ]
  },
  {
   "cell_type": "code",
   "execution_count": 9,
   "metadata": {},
   "outputs": [
    {
     "data": {
      "text/html": [
       "<div>\n",
       "<style scoped>\n",
       "    .dataframe tbody tr th:only-of-type {\n",
       "        vertical-align: middle;\n",
       "    }\n",
       "\n",
       "    .dataframe tbody tr th {\n",
       "        vertical-align: top;\n",
       "    }\n",
       "\n",
       "    .dataframe thead th {\n",
       "        text-align: right;\n",
       "    }\n",
       "</style>\n",
       "<table border=\"1\" class=\"dataframe\">\n",
       "  <thead>\n",
       "    <tr style=\"text-align: right;\">\n",
       "      <th></th>\n",
       "      <th>created_on</th>\n",
       "      <th>property_type</th>\n",
       "      <th>place_name</th>\n",
       "      <th>place_with_parent_names</th>\n",
       "      <th>lat</th>\n",
       "      <th>lon</th>\n",
       "      <th>price_aprox_usd</th>\n",
       "      <th>surface_total_in_m2</th>\n",
       "      <th>surface_covered_in_m2</th>\n",
       "      <th>price_usd_per_m2</th>\n",
       "      <th>floor</th>\n",
       "      <th>rooms</th>\n",
       "      <th>expenses</th>\n",
       "      <th>properati_url</th>\n",
       "      <th>barrio</th>\n",
       "    </tr>\n",
       "  </thead>\n",
       "  <tbody>\n",
       "    <tr>\n",
       "      <th>1</th>\n",
       "      <td>2017-08-29</td>\n",
       "      <td>apartment</td>\n",
       "      <td>Palermo</td>\n",
       "      <td>|Argentina|Capital Federal|Palermo|</td>\n",
       "      <td>-34.588912</td>\n",
       "      <td>-58.413494</td>\n",
       "      <td>340000.00</td>\n",
       "      <td>130.0</td>\n",
       "      <td>120.0</td>\n",
       "      <td>2615.384615</td>\n",
       "      <td>NaN</td>\n",
       "      <td>4.0</td>\n",
       "      <td>8000.0</td>\n",
       "      <td>https://www.properati.com.ar/1dzv6_venta_depar...</td>\n",
       "      <td>PALERMO</td>\n",
       "    </tr>\n",
       "    <tr>\n",
       "      <th>2</th>\n",
       "      <td>2017-08-29</td>\n",
       "      <td>apartment</td>\n",
       "      <td>Palermo</td>\n",
       "      <td>|Argentina|Capital Federal|Palermo|</td>\n",
       "      <td>-34.577033</td>\n",
       "      <td>-58.423368</td>\n",
       "      <td>222000.00</td>\n",
       "      <td>52.0</td>\n",
       "      <td>48.0</td>\n",
       "      <td>4269.230769</td>\n",
       "      <td>NaN</td>\n",
       "      <td>1.0</td>\n",
       "      <td>NaN</td>\n",
       "      <td>https://www.properati.com.ar/1e05k_venta_depar...</td>\n",
       "      <td>PALERMO</td>\n",
       "    </tr>\n",
       "    <tr>\n",
       "      <th>3</th>\n",
       "      <td>2017-08-29</td>\n",
       "      <td>apartment</td>\n",
       "      <td>Palermo</td>\n",
       "      <td>|Argentina|Capital Federal|Palermo|</td>\n",
       "      <td>-34.595014</td>\n",
       "      <td>-58.427392</td>\n",
       "      <td>180000.00</td>\n",
       "      <td>70.0</td>\n",
       "      <td>70.0</td>\n",
       "      <td>2571.428571</td>\n",
       "      <td>NaN</td>\n",
       "      <td>NaN</td>\n",
       "      <td>3000.0</td>\n",
       "      <td>https://www.properati.com.ar/1e0mq_venta_depar...</td>\n",
       "      <td>PALERMO</td>\n",
       "    </tr>\n",
       "    <tr>\n",
       "      <th>4</th>\n",
       "      <td>2017-08-30</td>\n",
       "      <td>house</td>\n",
       "      <td>Palermo Hollywood</td>\n",
       "      <td>|Argentina|Capital Federal|Palermo|Palermo Hol...</td>\n",
       "      <td>-34.579354</td>\n",
       "      <td>-58.436449</td>\n",
       "      <td>1200000.00</td>\n",
       "      <td>532.0</td>\n",
       "      <td>334.0</td>\n",
       "      <td>2255.639098</td>\n",
       "      <td>NaN</td>\n",
       "      <td>6.0</td>\n",
       "      <td>NaN</td>\n",
       "      <td>https://www.properati.com.ar/1e1ve_venta_casa_...</td>\n",
       "      <td>PALERMO</td>\n",
       "    </tr>\n",
       "    <tr>\n",
       "      <th>5</th>\n",
       "      <td>2017-08-30</td>\n",
       "      <td>house</td>\n",
       "      <td>Palermo</td>\n",
       "      <td>|Argentina|Capital Federal|Palermo|</td>\n",
       "      <td>-34.579354</td>\n",
       "      <td>-58.436449</td>\n",
       "      <td>1200000.00</td>\n",
       "      <td>532.0</td>\n",
       "      <td>334.0</td>\n",
       "      <td>2255.639098</td>\n",
       "      <td>NaN</td>\n",
       "      <td>6.0</td>\n",
       "      <td>NaN</td>\n",
       "      <td>https://www.properati.com.ar/1e1vf_venta_casa_...</td>\n",
       "      <td>PALERMO</td>\n",
       "    </tr>\n",
       "    <tr>\n",
       "      <th>...</th>\n",
       "      <td>...</td>\n",
       "      <td>...</td>\n",
       "      <td>...</td>\n",
       "      <td>...</td>\n",
       "      <td>...</td>\n",
       "      <td>...</td>\n",
       "      <td>...</td>\n",
       "      <td>...</td>\n",
       "      <td>...</td>\n",
       "      <td>...</td>\n",
       "      <td>...</td>\n",
       "      <td>...</td>\n",
       "      <td>...</td>\n",
       "      <td>...</td>\n",
       "      <td>...</td>\n",
       "    </tr>\n",
       "    <tr>\n",
       "      <th>13751</th>\n",
       "      <td>2017-12-17</td>\n",
       "      <td>apartment</td>\n",
       "      <td>Villa Soldati</td>\n",
       "      <td>|Argentina|Capital Federal|Villa Soldati|</td>\n",
       "      <td>-34.668970</td>\n",
       "      <td>-58.443897</td>\n",
       "      <td>49000.00</td>\n",
       "      <td>75.0</td>\n",
       "      <td>75.0</td>\n",
       "      <td>653.333333</td>\n",
       "      <td>NaN</td>\n",
       "      <td>4.0</td>\n",
       "      <td>NaN</td>\n",
       "      <td>https://www.properati.com.ar/1j22x_venta_depar...</td>\n",
       "      <td>VILLA SOLDATI</td>\n",
       "    </tr>\n",
       "    <tr>\n",
       "      <th>13752</th>\n",
       "      <td>2018-01-08</td>\n",
       "      <td>apartment</td>\n",
       "      <td>Villa Soldati</td>\n",
       "      <td>|Argentina|Capital Federal|Villa Soldati|</td>\n",
       "      <td>-34.668741</td>\n",
       "      <td>-58.443146</td>\n",
       "      <td>60000.00</td>\n",
       "      <td>55.0</td>\n",
       "      <td>55.0</td>\n",
       "      <td>1090.909091</td>\n",
       "      <td>NaN</td>\n",
       "      <td>3.0</td>\n",
       "      <td>NaN</td>\n",
       "      <td>https://www.properati.com.ar/1jcpm_venta_depar...</td>\n",
       "      <td>VILLA SOLDATI</td>\n",
       "    </tr>\n",
       "    <tr>\n",
       "      <th>13753</th>\n",
       "      <td>2018-01-23</td>\n",
       "      <td>house</td>\n",
       "      <td>Villa Soldati</td>\n",
       "      <td>|Argentina|Capital Federal|Villa Soldati|</td>\n",
       "      <td>-34.664170</td>\n",
       "      <td>-58.443317</td>\n",
       "      <td>99000.00</td>\n",
       "      <td>115.0</td>\n",
       "      <td>82.0</td>\n",
       "      <td>860.869565</td>\n",
       "      <td>NaN</td>\n",
       "      <td>3.0</td>\n",
       "      <td>NaN</td>\n",
       "      <td>https://www.properati.com.ar/1k1hs_venta_casa_...</td>\n",
       "      <td>VILLA SOLDATI</td>\n",
       "    </tr>\n",
       "    <tr>\n",
       "      <th>13754</th>\n",
       "      <td>2018-01-27</td>\n",
       "      <td>apartment</td>\n",
       "      <td>Villa Soldati</td>\n",
       "      <td>|Argentina|Capital Federal|Villa Soldati|</td>\n",
       "      <td>-34.665005</td>\n",
       "      <td>-58.443041</td>\n",
       "      <td>50433.01</td>\n",
       "      <td>45.0</td>\n",
       "      <td>45.0</td>\n",
       "      <td>1120.733556</td>\n",
       "      <td>NaN</td>\n",
       "      <td>3.0</td>\n",
       "      <td>NaN</td>\n",
       "      <td>https://www.properati.com.ar/1k5v0_venta_depar...</td>\n",
       "      <td>VILLA SOLDATI</td>\n",
       "    </tr>\n",
       "    <tr>\n",
       "      <th>13755</th>\n",
       "      <td>2018-01-27</td>\n",
       "      <td>apartment</td>\n",
       "      <td>Villa Lugano</td>\n",
       "      <td>|Argentina|Capital Federal|Villa Lugano|</td>\n",
       "      <td>-34.664283</td>\n",
       "      <td>-58.469604</td>\n",
       "      <td>75000.00</td>\n",
       "      <td>60.0</td>\n",
       "      <td>58.0</td>\n",
       "      <td>1250.000000</td>\n",
       "      <td>9.0</td>\n",
       "      <td>3.0</td>\n",
       "      <td>NaN</td>\n",
       "      <td>https://www.properati.com.ar/1k5x2_venta_depar...</td>\n",
       "      <td>VILLA SOLDATI</td>\n",
       "    </tr>\n",
       "  </tbody>\n",
       "</table>\n",
       "<p>12288 rows × 15 columns</p>\n",
       "</div>"
      ],
      "text/plain": [
       "      created_on property_type         place_name  \\\n",
       "1     2017-08-29     apartment            Palermo   \n",
       "2     2017-08-29     apartment            Palermo   \n",
       "3     2017-08-29     apartment            Palermo   \n",
       "4     2017-08-30         house  Palermo Hollywood   \n",
       "5     2017-08-30         house            Palermo   \n",
       "...          ...           ...                ...   \n",
       "13751 2017-12-17     apartment      Villa Soldati   \n",
       "13752 2018-01-08     apartment      Villa Soldati   \n",
       "13753 2018-01-23         house      Villa Soldati   \n",
       "13754 2018-01-27     apartment      Villa Soldati   \n",
       "13755 2018-01-27     apartment       Villa Lugano   \n",
       "\n",
       "                                 place_with_parent_names        lat  \\\n",
       "1                    |Argentina|Capital Federal|Palermo| -34.588912   \n",
       "2                    |Argentina|Capital Federal|Palermo| -34.577033   \n",
       "3                    |Argentina|Capital Federal|Palermo| -34.595014   \n",
       "4      |Argentina|Capital Federal|Palermo|Palermo Hol... -34.579354   \n",
       "5                    |Argentina|Capital Federal|Palermo| -34.579354   \n",
       "...                                                  ...        ...   \n",
       "13751          |Argentina|Capital Federal|Villa Soldati| -34.668970   \n",
       "13752          |Argentina|Capital Federal|Villa Soldati| -34.668741   \n",
       "13753          |Argentina|Capital Federal|Villa Soldati| -34.664170   \n",
       "13754          |Argentina|Capital Federal|Villa Soldati| -34.665005   \n",
       "13755           |Argentina|Capital Federal|Villa Lugano| -34.664283   \n",
       "\n",
       "             lon  price_aprox_usd  surface_total_in_m2  surface_covered_in_m2  \\\n",
       "1     -58.413494        340000.00                130.0                  120.0   \n",
       "2     -58.423368        222000.00                 52.0                   48.0   \n",
       "3     -58.427392        180000.00                 70.0                   70.0   \n",
       "4     -58.436449       1200000.00                532.0                  334.0   \n",
       "5     -58.436449       1200000.00                532.0                  334.0   \n",
       "...          ...              ...                  ...                    ...   \n",
       "13751 -58.443897         49000.00                 75.0                   75.0   \n",
       "13752 -58.443146         60000.00                 55.0                   55.0   \n",
       "13753 -58.443317         99000.00                115.0                   82.0   \n",
       "13754 -58.443041         50433.01                 45.0                   45.0   \n",
       "13755 -58.469604         75000.00                 60.0                   58.0   \n",
       "\n",
       "       price_usd_per_m2  floor  rooms  expenses  \\\n",
       "1           2615.384615    NaN    4.0    8000.0   \n",
       "2           4269.230769    NaN    1.0       NaN   \n",
       "3           2571.428571    NaN    NaN    3000.0   \n",
       "4           2255.639098    NaN    6.0       NaN   \n",
       "5           2255.639098    NaN    6.0       NaN   \n",
       "...                 ...    ...    ...       ...   \n",
       "13751        653.333333    NaN    4.0       NaN   \n",
       "13752       1090.909091    NaN    3.0       NaN   \n",
       "13753        860.869565    NaN    3.0       NaN   \n",
       "13754       1120.733556    NaN    3.0       NaN   \n",
       "13755       1250.000000    9.0    3.0       NaN   \n",
       "\n",
       "                                           properati_url         barrio  \n",
       "1      https://www.properati.com.ar/1dzv6_venta_depar...        PALERMO  \n",
       "2      https://www.properati.com.ar/1e05k_venta_depar...        PALERMO  \n",
       "3      https://www.properati.com.ar/1e0mq_venta_depar...        PALERMO  \n",
       "4      https://www.properati.com.ar/1e1ve_venta_casa_...        PALERMO  \n",
       "5      https://www.properati.com.ar/1e1vf_venta_casa_...        PALERMO  \n",
       "...                                                  ...            ...  \n",
       "13751  https://www.properati.com.ar/1j22x_venta_depar...  VILLA SOLDATI  \n",
       "13752  https://www.properati.com.ar/1jcpm_venta_depar...  VILLA SOLDATI  \n",
       "13753  https://www.properati.com.ar/1k1hs_venta_casa_...  VILLA SOLDATI  \n",
       "13754  https://www.properati.com.ar/1k5v0_venta_depar...  VILLA SOLDATI  \n",
       "13755  https://www.properati.com.ar/1k5x2_venta_depar...  VILLA SOLDATI  \n",
       "\n",
       "[12288 rows x 15 columns]"
      ]
     },
     "execution_count": 9,
     "metadata": {},
     "output_type": "execute_result"
    }
   ],
   "source": [
    "q1 = df.price_usd_per_m2.quantile(0.25)\n",
    "q3 = df.price_usd_per_m2.quantile(0.75)\n",
    "iqr = q3-q1\n",
    "minimo  = q1-1.5*iqr\n",
    "maximo = q3+1.5*iqr\n",
    "df.price_usd_per_m2[(df.price_usd_per_m2 > minimo) & (df.price_usd_per_m2 < maximo)]\n",
    "df_filtered = df[(df.price_usd_per_m2 > minimo) & (df.price_usd_per_m2 < maximo)]\n",
    "df_filtered"
   ]
  },
  {
   "cell_type": "markdown",
   "metadata": {},
   "source": [
    "**5.** De nuevo se visualizan, a partir de un \"distplot\" y un \"boxplot\" los precios sin los outliers y donde se ven calras diferencias respecto los gráficos anteriores."
   ]
  },
  {
   "cell_type": "code",
   "execution_count": 10,
   "metadata": {},
   "outputs": [
    {
     "data": {
      "image/png": "[encoded data removed]",
      "text/plain": [
       "<Figure size 432x288 with 1 Axes>"
      ]
     },
     "metadata": {
      "needs_background": "light"
     },
     "output_type": "display_data"
    }
   ],
   "source": [
    "x=df_filtered.price_usd_per_m2\n",
    "sns.distplot(x,kde=False)         \n",
    "plt.show()"
   ]
  },
  {
   "cell_type": "code",
   "execution_count": 11,
   "metadata": {},
   "outputs": [
    {
     "data": {
      "image/png": "[encoded data removed]",
      "text/plain": [
       "<Figure size 432x288 with 1 Axes>"
      ]
     },
     "metadata": {
      "needs_background": "light"
     },
     "output_type": "display_data"
    }
   ],
   "source": [
    "x=df_filtered.price_usd_per_m2\n",
    "sns.boxplot(x)         \n",
    "plt.show()"
   ]
  },
  {
   "cell_type": "markdown",
   "metadata": {},
   "source": [
    "**6.** Se describen nuevamente los parámetros estadísticos de la columna, donde también se observan variaciones."
   ]
  },
  {
   "cell_type": "code",
   "execution_count": 12,
   "metadata": {},
   "outputs": [
    {
     "data": {
      "text/plain": [
       "count    12288.000000\n",
       "mean      2505.089766\n",
       "std        834.949633\n",
       "min        213.068182\n",
       "25%       1933.333333\n",
       "50%       2466.666667\n",
       "75%       3027.864583\n",
       "max       4871.794872\n",
       "Name: price_usd_per_m2, dtype: float64"
      ]
     },
     "execution_count": 12,
     "metadata": {},
     "output_type": "execute_result"
    }
   ],
   "source": [
    "df_filtered['price_usd_per_m2'].describe()"
   ]
  },
  {
   "cell_type": "markdown",
   "metadata": {},
   "source": [
    "Se continúa el análisis con el Dataframe filtrado:"
   ]
  },
  {
   "cell_type": "code",
   "execution_count": 13,
   "metadata": {},
   "outputs": [],
   "source": [
    "df = df_filtered"
   ]
  },
  {
   "cell_type": "markdown",
   "metadata": {},
   "source": [
    "### Valores Faltantes\n",
    "A diferencia del proyecto anterior, en este se intenta imputar los valores faltantes para los atributos considerados importantes para el mercado inmobiliario. \n",
    "\n",
    "Estos atributos son los que informan: superficie (total o cubierta), cantidad de ambientes, precio y precio por metro cuadrado. \n",
    "\n",
    "En primer lugar se verá cuántos valores faltantes tiene cada atributo. Como esta información es muy importante, conviene estudiarlo en forma de porcentaje en relación a la cantidad de observaciones, si el porcentaje de valores faltantes en un atributo es elevado, puede ser mejor no considerarlo en el análisis."
   ]
  },
  {
   "cell_type": "markdown",
   "metadata": {},
   "source": [
    "**7.** El porcentaje de valores faltantes para cada columna es:"
   ]
  },
  {
   "cell_type": "code",
   "execution_count": 14,
   "metadata": {},
   "outputs": [
    {
     "name": "stdout",
     "output_type": "stream",
     "text": [
      "created_on                     0\n",
      "property_type                  0\n",
      "place_name                     0\n",
      "place_with_parent_names        0\n",
      "lat                            0\n",
      "                           ...  \n",
      "floor                      10455\n",
      "rooms                       2160\n",
      "expenses                    9090\n",
      "properati_url                  0\n",
      "barrio                         0\n",
      "Length: 15, dtype: int64\n"
     ]
    },
    {
     "data": {
      "text/plain": [
       "created_on                  0.000000\n",
       "property_type               0.000000\n",
       "place_name                  0.000000\n",
       "place_with_parent_names     0.000000\n",
       "lat                         0.000000\n",
       "                             ...    \n",
       "floor                      85.083008\n",
       "rooms                      17.578125\n",
       "expenses                   73.974609\n",
       "properati_url               0.000000\n",
       "barrio                      0.000000\n",
       "Length: 15, dtype: float64"
      ]
     },
     "execution_count": 14,
     "metadata": {},
     "output_type": "execute_result"
    }
   ],
   "source": [
    "col_null = df.isnull().sum()\n",
    "print (col_null)\n",
    "df.isnull().mean() * 100"
   ]
  },
  {
   "cell_type": "markdown",
   "metadata": {},
   "source": [
    "En estos resultados se ve que los atributos 'floor' y 'expenses' tienen un elevado porcentaje de faltantes. Dado el alto porcentaje de faltantes, una opción sería descartar estas columnas en el análisis. Pero si se eliminan las instancias (filas) asociadas a estos, se perdería el 84.79% de los datos, reduciendo demasiado el conjunto de datos.\n",
    "\n",
    "Otra opción como ejemplo puede ser considerar categorías como faltantes o no faltantes o en todo caso analizar si hay algún patrón para poder evitar quitarlos. Pero en este caso y a fin de avanzar con el proyecto, se prescinde de estos atributos."
   ]
  },
  {
   "cell_type": "code",
   "execution_count": 15,
   "metadata": {},
   "outputs": [],
   "source": [
    "df = df.drop(['floor', 'expenses'], axis = 1)"
   ]
  },
  {
   "cell_type": "markdown",
   "metadata": {},
   "source": [
    "Por otro lado se analizan estrategias para atribuir los valores faltantes para las columnas 'rooms', 'surface_total_in_m2' y 'surface_covered_in_m2'. Algunas opciones pueden reemplazar los faltantes por algún medida de tendencia central, como la media o la mediana, en este caso se utiliza la media en las columnas 'surface_total_in_m2' y 'surface_covered_in_m2' y la mediana para la columna 'rooms'.\n",
    "\n",
    "Como herramienta bastante usual de imputación, se utiliza Scikit-learn, la cual provee la clase Imputer que permite realizar esta acción.\n",
    "\n",
    "**8. Imputar los valores faltantes** de las columnas 'surface_total_in_m2' y 'surface_covered_in_m2' utilizando la **media**."
   ]
  },
  {
   "cell_type": "code",
   "execution_count": 16,
   "metadata": {},
   "outputs": [
    {
     "name": "stdout",
     "output_type": "stream",
     "text": [
      "surface_total_in_m2        0\n",
      "surface_covered_in_m2    474\n",
      "dtype: int64\n"
     ]
    }
   ],
   "source": [
    "print(df[['surface_total_in_m2', 'surface_covered_in_m2']].isna().sum())"
   ]
  },
  {
   "cell_type": "code",
   "execution_count": 17,
   "metadata": {},
   "outputs": [],
   "source": [
    "from sklearn.impute import SimpleImputer\n",
    "si = SimpleImputer(strategy='mean')\n",
    "si = si.fit(df[['surface_total_in_m2', 'surface_covered_in_m2']])\n",
    "\n",
    "df[['surface_total_in_m2', 'surface_covered_in_m2']] = si.transform(df[['surface_total_in_m2', 'surface_covered_in_m2']])"
   ]
  },
  {
   "cell_type": "code",
   "execution_count": 18,
   "metadata": {},
   "outputs": [
    {
     "name": "stdout",
     "output_type": "stream",
     "text": [
      "surface_total_in_m2      0\n",
      "surface_covered_in_m2    0\n",
      "dtype: int64\n"
     ]
    }
   ],
   "source": [
    "print(df[['surface_total_in_m2', 'surface_covered_in_m2']].isna().sum())"
   ]
  },
  {
   "cell_type": "markdown",
   "metadata": {},
   "source": [
    "**Nota:** Una de las limitaciones que presenta este tipo de imputación es que provoca estimaciones sesgadas de la varianza. Esto impacta en los errores estandar y por ende, en los tests estadísticos.\n",
    "\n",
    "Este tipo de técnicas es útil cuando los valores son completamente al azar."
   ]
  },
  {
   "cell_type": "markdown",
   "metadata": {},
   "source": [
    "**9. Imputar las observaciones faltantes** de la columna 'rooms' usando la **mediana**."
   ]
  },
  {
   "cell_type": "code",
   "execution_count": 19,
   "metadata": {},
   "outputs": [
    {
     "name": "stdout",
     "output_type": "stream",
     "text": [
      "rooms    2160\n",
      "dtype: int64\n"
     ]
    }
   ],
   "source": [
    "print(df[['rooms']].isna().sum())"
   ]
  },
  {
   "cell_type": "code",
   "execution_count": 20,
   "metadata": {},
   "outputs": [],
   "source": [
    "# Imputar con la mediana en esta celda\n",
    "si = SimpleImputer(strategy='median')\n",
    "#si = si.fit(df[['surface_total_in_m2', 'surface_covered_in_m2']])\n",
    "df[['rooms']] = si.fit_transform(df[['rooms']])"
   ]
  },
  {
   "cell_type": "code",
   "execution_count": 21,
   "metadata": {},
   "outputs": [
    {
     "name": "stdout",
     "output_type": "stream",
     "text": [
      "rooms    0\n",
      "dtype: int64\n"
     ]
    }
   ],
   "source": [
    "print(df[['rooms']].isna().sum())"
   ]
  },
  {
   "cell_type": "markdown",
   "metadata": {},
   "source": [
    "### Variables binarias"
   ]
  },
  {
   "cell_type": "markdown",
   "metadata": {},
   "source": [
    "Continuando con el proyecto, se procede a generar variables binarias para la columna 'property_type'. Como en este caso el atributo es categórico y sus valores estan en formato string (secuencia de caracteres), se utiliza Scikit-learn para convertirlos en valores numéricos. \n",
    "\n",
    "**10.** Se utiliza LabelEncoder sobre 'property_type'"
   ]
  },
  {
   "cell_type": "code",
   "execution_count": 22,
   "metadata": {},
   "outputs": [
    {
     "name": "stderr",
     "output_type": "stream",
     "text": [
      "C:\\Users\\educa\\Anaconda3\\lib\\site-packages\\sklearn\\preprocessing\\label.py:219: DataConversionWarning: A column-vector y was passed when a 1d array was expected. Please change the shape of y to (n_samples, ), for example using ravel().\n",
      "  y = column_or_1d(y, warn=True)\n"
     ]
    },
    {
     "data": {
      "text/plain": [
       "LabelEncoder()"
      ]
     },
     "execution_count": 22,
     "metadata": {},
     "output_type": "execute_result"
    }
   ],
   "source": [
    "from sklearn.preprocessing import LabelEncoder\n",
    "le = LabelEncoder()\n",
    "le.fit(df[['property_type']])"
   ]
  },
  {
   "cell_type": "code",
   "execution_count": 23,
   "metadata": {},
   "outputs": [
    {
     "name": "stderr",
     "output_type": "stream",
     "text": [
      "C:\\Users\\educa\\Anaconda3\\lib\\site-packages\\sklearn\\preprocessing\\label.py:252: DataConversionWarning: A column-vector y was passed when a 1d array was expected. Please change the shape of y to (n_samples, ), for example using ravel().\n",
      "  y = column_or_1d(y, warn=True)\n"
     ]
    },
    {
     "data": {
      "text/plain": [
       "array([1, 1, 1, ..., 2, 1, 1])"
      ]
     },
     "execution_count": 23,
     "metadata": {},
     "output_type": "execute_result"
    }
   ],
   "source": [
    "le.transform(df[['property_type']])"
   ]
  },
  {
   "cell_type": "markdown",
   "metadata": {},
   "source": [
    "**11.** A continuación se visualizan las clases creadas a partir del LabelEncoder:"
   ]
  },
  {
   "cell_type": "code",
   "execution_count": 24,
   "metadata": {},
   "outputs": [
    {
     "data": {
      "text/plain": [
       "array(['PH', 'apartment', 'house'], dtype=object)"
      ]
     },
     "execution_count": 24,
     "metadata": {},
     "output_type": "execute_result"
    }
   ],
   "source": [
    "le.classes_"
   ]
  },
  {
   "cell_type": "markdown",
   "metadata": {},
   "source": [
    " **12.** Se utiliza OneHotEncoder sobre las variables categóricas de 'property_type' para crear un dataframe de variables binarias, el cual se llamará \"categoricals_df\"."
   ]
  },
  {
   "cell_type": "code",
   "execution_count": 25,
   "metadata": {},
   "outputs": [
    {
     "name": "stderr",
     "output_type": "stream",
     "text": [
      "C:\\Users\\educa\\Anaconda3\\lib\\site-packages\\sklearn\\preprocessing\\label.py:252: DataConversionWarning: A column-vector y was passed when a 1d array was expected. Please change the shape of y to (n_samples, ), for example using ravel().\n",
      "  y = column_or_1d(y, warn=True)\n"
     ]
    },
    {
     "data": {
      "text/plain": [
       "array([1, 1, 1, ..., 2, 1, 1])"
      ]
     },
     "execution_count": 25,
     "metadata": {},
     "output_type": "execute_result"
    }
   ],
   "source": [
    "categoricals_df = le.transform(df[['property_type']])\n",
    "categoricals_df"
   ]
  },
  {
   "cell_type": "code",
   "execution_count": 26,
   "metadata": {},
   "outputs": [
    {
     "data": {
      "text/plain": [
       "array([[1],\n",
       "       [1],\n",
       "       [1],\n",
       "       ...,\n",
       "       [2],\n",
       "       [1],\n",
       "       [1]])"
      ]
     },
     "execution_count": 26,
     "metadata": {},
     "output_type": "execute_result"
    }
   ],
   "source": [
    "from sklearn.preprocessing import OneHotEncoder\n",
    "enc = OneHotEncoder(sparse = False)\n",
    "categoricals_df = categoricals_df.reshape(len(categoricals_df),1)\n",
    "categoricals_df"
   ]
  },
  {
   "cell_type": "code",
   "execution_count": 27,
   "metadata": {},
   "outputs": [
    {
     "name": "stderr",
     "output_type": "stream",
     "text": [
      "C:\\Users\\educa\\Anaconda3\\lib\\site-packages\\sklearn\\preprocessing\\_encoders.py:371: FutureWarning: The handling of integer data will change in version 0.22. Currently, the categories are determined based on the range [0, max(values)], while in the future they will be determined based on the unique values.\n",
      "If you want the future behaviour and silence this warning, you can specify \"categories='auto'\".\n",
      "In case you used a LabelEncoder before this OneHotEncoder to convert the categories to integers, then you can now use the OneHotEncoder directly.\n",
      "  warnings.warn(msg, FutureWarning)\n"
     ]
    },
    {
     "data": {
      "text/plain": [
       "(12288, 3)"
      ]
     },
     "execution_count": 27,
     "metadata": {},
     "output_type": "execute_result"
    }
   ],
   "source": [
    "categoricals_df = enc.fit_transform(categoricals_df)\n",
    "categoricals_df.shape"
   ]
  },
  {
   "cell_type": "markdown",
   "metadata": {},
   "source": [
    "Se observa la matriz creada:"
   ]
  },
  {
   "cell_type": "code",
   "execution_count": 28,
   "metadata": {},
   "outputs": [
    {
     "name": "stdout",
     "output_type": "stream",
     "text": [
      "[[0. 1. 0.]\n",
      " [0. 1. 0.]\n",
      " [0. 1. 0.]\n",
      " ...\n",
      " [0. 0. 1.]\n",
      " [0. 1. 0.]\n",
      " [0. 1. 0.]]\n"
     ]
    }
   ],
   "source": [
    "print(categoricals_df)"
   ]
  },
  {
   "cell_type": "code",
   "execution_count": 29,
   "metadata": {},
   "outputs": [],
   "source": [
    "categoricals_df = pd.DataFrame(categoricals_df)"
   ]
  },
  {
   "cell_type": "markdown",
   "metadata": {},
   "source": [
    "**13.** Como siguiente paso, se quiere unir el nuevo dataframe \"categorical_df\" con el dataframe original \"df\". Para esto, es necesario que tengan el mismo índice, por lo cual se utiliza la herramienta Concat de Pandas que tiene esta función."
   ]
  },
  {
   "cell_type": "code",
   "execution_count": 30,
   "metadata": {},
   "outputs": [
    {
     "data": {
      "text/html": [
       "<div>\n",
       "<style scoped>\n",
       "    .dataframe tbody tr th:only-of-type {\n",
       "        vertical-align: middle;\n",
       "    }\n",
       "\n",
       "    .dataframe tbody tr th {\n",
       "        vertical-align: top;\n",
       "    }\n",
       "\n",
       "    .dataframe thead th {\n",
       "        text-align: right;\n",
       "    }\n",
       "</style>\n",
       "<table border=\"1\" class=\"dataframe\">\n",
       "  <thead>\n",
       "    <tr style=\"text-align: right;\">\n",
       "      <th></th>\n",
       "      <th>created_on</th>\n",
       "      <th>property_type</th>\n",
       "      <th>place_name</th>\n",
       "      <th>place_with_parent_names</th>\n",
       "      <th>lat</th>\n",
       "      <th>lon</th>\n",
       "      <th>price_aprox_usd</th>\n",
       "      <th>surface_total_in_m2</th>\n",
       "      <th>surface_covered_in_m2</th>\n",
       "      <th>price_usd_per_m2</th>\n",
       "      <th>rooms</th>\n",
       "      <th>properati_url</th>\n",
       "      <th>barrio</th>\n",
       "      <th>0</th>\n",
       "      <th>1</th>\n",
       "      <th>2</th>\n",
       "    </tr>\n",
       "  </thead>\n",
       "  <tbody>\n",
       "    <tr>\n",
       "      <th>1</th>\n",
       "      <td>2017-08-29</td>\n",
       "      <td>apartment</td>\n",
       "      <td>Palermo</td>\n",
       "      <td>|Argentina|Capital Federal|Palermo|</td>\n",
       "      <td>-34.588912</td>\n",
       "      <td>-58.413494</td>\n",
       "      <td>340000.0</td>\n",
       "      <td>130.0</td>\n",
       "      <td>120.0</td>\n",
       "      <td>2615.384615</td>\n",
       "      <td>4.0</td>\n",
       "      <td>https://www.properati.com.ar/1dzv6_venta_depar...</td>\n",
       "      <td>PALERMO</td>\n",
       "      <td>0.0</td>\n",
       "      <td>1.0</td>\n",
       "      <td>0.0</td>\n",
       "    </tr>\n",
       "    <tr>\n",
       "      <th>2</th>\n",
       "      <td>2017-08-29</td>\n",
       "      <td>apartment</td>\n",
       "      <td>Palermo</td>\n",
       "      <td>|Argentina|Capital Federal|Palermo|</td>\n",
       "      <td>-34.577033</td>\n",
       "      <td>-58.423368</td>\n",
       "      <td>222000.0</td>\n",
       "      <td>52.0</td>\n",
       "      <td>48.0</td>\n",
       "      <td>4269.230769</td>\n",
       "      <td>1.0</td>\n",
       "      <td>https://www.properati.com.ar/1e05k_venta_depar...</td>\n",
       "      <td>PALERMO</td>\n",
       "      <td>0.0</td>\n",
       "      <td>1.0</td>\n",
       "      <td>0.0</td>\n",
       "    </tr>\n",
       "    <tr>\n",
       "      <th>3</th>\n",
       "      <td>2017-08-29</td>\n",
       "      <td>apartment</td>\n",
       "      <td>Palermo</td>\n",
       "      <td>|Argentina|Capital Federal|Palermo|</td>\n",
       "      <td>-34.595014</td>\n",
       "      <td>-58.427392</td>\n",
       "      <td>180000.0</td>\n",
       "      <td>70.0</td>\n",
       "      <td>70.0</td>\n",
       "      <td>2571.428571</td>\n",
       "      <td>3.0</td>\n",
       "      <td>https://www.properati.com.ar/1e0mq_venta_depar...</td>\n",
       "      <td>PALERMO</td>\n",
       "      <td>0.0</td>\n",
       "      <td>1.0</td>\n",
       "      <td>0.0</td>\n",
       "    </tr>\n",
       "    <tr>\n",
       "      <th>4</th>\n",
       "      <td>2017-08-30</td>\n",
       "      <td>house</td>\n",
       "      <td>Palermo Hollywood</td>\n",
       "      <td>|Argentina|Capital Federal|Palermo|Palermo Hol...</td>\n",
       "      <td>-34.579354</td>\n",
       "      <td>-58.436449</td>\n",
       "      <td>1200000.0</td>\n",
       "      <td>532.0</td>\n",
       "      <td>334.0</td>\n",
       "      <td>2255.639098</td>\n",
       "      <td>6.0</td>\n",
       "      <td>https://www.properati.com.ar/1e1ve_venta_casa_...</td>\n",
       "      <td>PALERMO</td>\n",
       "      <td>0.0</td>\n",
       "      <td>0.0</td>\n",
       "      <td>1.0</td>\n",
       "    </tr>\n",
       "    <tr>\n",
       "      <th>5</th>\n",
       "      <td>2017-08-30</td>\n",
       "      <td>house</td>\n",
       "      <td>Palermo</td>\n",
       "      <td>|Argentina|Capital Federal|Palermo|</td>\n",
       "      <td>-34.579354</td>\n",
       "      <td>-58.436449</td>\n",
       "      <td>1200000.0</td>\n",
       "      <td>532.0</td>\n",
       "      <td>334.0</td>\n",
       "      <td>2255.639098</td>\n",
       "      <td>6.0</td>\n",
       "      <td>https://www.properati.com.ar/1e1vf_venta_casa_...</td>\n",
       "      <td>PALERMO</td>\n",
       "      <td>0.0</td>\n",
       "      <td>0.0</td>\n",
       "      <td>1.0</td>\n",
       "    </tr>\n",
       "  </tbody>\n",
       "</table>\n",
       "</div>"
      ],
      "text/plain": [
       "  created_on property_type         place_name  \\\n",
       "1 2017-08-29     apartment            Palermo   \n",
       "2 2017-08-29     apartment            Palermo   \n",
       "3 2017-08-29     apartment            Palermo   \n",
       "4 2017-08-30         house  Palermo Hollywood   \n",
       "5 2017-08-30         house            Palermo   \n",
       "\n",
       "                             place_with_parent_names        lat        lon  \\\n",
       "1                |Argentina|Capital Federal|Palermo| -34.588912 -58.413494   \n",
       "2                |Argentina|Capital Federal|Palermo| -34.577033 -58.423368   \n",
       "3                |Argentina|Capital Federal|Palermo| -34.595014 -58.427392   \n",
       "4  |Argentina|Capital Federal|Palermo|Palermo Hol... -34.579354 -58.436449   \n",
       "5                |Argentina|Capital Federal|Palermo| -34.579354 -58.436449   \n",
       "\n",
       "   price_aprox_usd  surface_total_in_m2  surface_covered_in_m2  \\\n",
       "1         340000.0                130.0                  120.0   \n",
       "2         222000.0                 52.0                   48.0   \n",
       "3         180000.0                 70.0                   70.0   \n",
       "4        1200000.0                532.0                  334.0   \n",
       "5        1200000.0                532.0                  334.0   \n",
       "\n",
       "   price_usd_per_m2  rooms                                      properati_url  \\\n",
       "1       2615.384615    4.0  https://www.properati.com.ar/1dzv6_venta_depar...   \n",
       "2       4269.230769    1.0  https://www.properati.com.ar/1e05k_venta_depar...   \n",
       "3       2571.428571    3.0  https://www.properati.com.ar/1e0mq_venta_depar...   \n",
       "4       2255.639098    6.0  https://www.properati.com.ar/1e1ve_venta_casa_...   \n",
       "5       2255.639098    6.0  https://www.properati.com.ar/1e1vf_venta_casa_...   \n",
       "\n",
       "    barrio    0    1    2  \n",
       "1  PALERMO  0.0  1.0  0.0  \n",
       "2  PALERMO  0.0  1.0  0.0  \n",
       "3  PALERMO  0.0  1.0  0.0  \n",
       "4  PALERMO  0.0  0.0  1.0  \n",
       "5  PALERMO  0.0  0.0  1.0  "
      ]
     },
     "execution_count": 30,
     "metadata": {},
     "output_type": "execute_result"
    }
   ],
   "source": [
    "categoricals_df = categoricals_df.set_index(df.index)\n",
    "df = pd.concat([df, categoricals_df], axis=1)\n",
    "df.head()"
   ]
  },
  {
   "cell_type": "markdown",
   "metadata": {},
   "source": [
    "### Variables calculadas"
   ]
  },
  {
   "cell_type": "markdown",
   "metadata": {},
   "source": [
    "__14.__ A continuación se crea una nueva columna 'price_m2', que es el resultado de calcular el precio por metro cuadrado (precio/superficie total). Como dividir por cero generaría un error, se crea una función que contemple esto, en el caso de que la superficie total sea un valor faltante o cero.\n",
    "\n",
    "**Nota:** Crear una columna nueva y no imputar los faltantes es simplemente una decisión. En el caso de modelos predictivos, este tipo de decisiones puede afectar en términos de performance del modelo."
   ]
  },
  {
   "cell_type": "code",
   "execution_count": 31,
   "metadata": {},
   "outputs": [],
   "source": [
    "def custom_division(x, y):\n",
    "    if y > 0:\n",
    "        res = x / y\n",
    "    else:\n",
    "        res = 0\n",
    "    return res\n",
    "\n",
    "df['price_m2'] = df.apply(lambda x: custom_division\n",
    "                          (x['price_aprox_usd'], x['surface_total_in_m2']), axis = 1)\n",
    "df.drop(['price_usd_per_m2'], axis=1, inplace=True)\n"
   ]
  },
  {
   "cell_type": "markdown",
   "metadata": {},
   "source": [
    "A continuación se verifica que ya no quedan atributos con valores faltantes, creando un dataframe con los porcentajes nulos y después se muestran los que tengan valores nulos. Si el porcentsaje es cero, no se muestra."
   ]
  },
  {
   "cell_type": "code",
   "execution_count": 32,
   "metadata": {},
   "outputs": [
    {
     "data": {
      "text/html": [
       "<div>\n",
       "<style scoped>\n",
       "    .dataframe tbody tr th:only-of-type {\n",
       "        vertical-align: middle;\n",
       "    }\n",
       "\n",
       "    .dataframe tbody tr th {\n",
       "        vertical-align: top;\n",
       "    }\n",
       "\n",
       "    .dataframe thead th {\n",
       "        text-align: right;\n",
       "    }\n",
       "</style>\n",
       "<table border=\"1\" class=\"dataframe\">\n",
       "  <thead>\n",
       "    <tr style=\"text-align: right;\">\n",
       "      <th></th>\n",
       "      <th>created_on</th>\n",
       "      <th>property_type</th>\n",
       "      <th>place_name</th>\n",
       "      <th>place_with_parent_names</th>\n",
       "      <th>lat</th>\n",
       "      <th>lon</th>\n",
       "      <th>price_aprox_usd</th>\n",
       "      <th>surface_total_in_m2</th>\n",
       "      <th>surface_covered_in_m2</th>\n",
       "      <th>rooms</th>\n",
       "      <th>properati_url</th>\n",
       "      <th>barrio</th>\n",
       "      <th>0</th>\n",
       "      <th>1</th>\n",
       "      <th>2</th>\n",
       "      <th>price_m2</th>\n",
       "    </tr>\n",
       "  </thead>\n",
       "  <tbody>\n",
       "    <tr>\n",
       "      <th>1</th>\n",
       "      <td>2017-08-29</td>\n",
       "      <td>apartment</td>\n",
       "      <td>Palermo</td>\n",
       "      <td>|Argentina|Capital Federal|Palermo|</td>\n",
       "      <td>-34.588912</td>\n",
       "      <td>-58.413494</td>\n",
       "      <td>340000.00</td>\n",
       "      <td>130.0</td>\n",
       "      <td>120.0</td>\n",
       "      <td>4.0</td>\n",
       "      <td>https://www.properati.com.ar/1dzv6_venta_depar...</td>\n",
       "      <td>PALERMO</td>\n",
       "      <td>0.0</td>\n",
       "      <td>1.0</td>\n",
       "      <td>0.0</td>\n",
       "      <td>2615.384615</td>\n",
       "    </tr>\n",
       "    <tr>\n",
       "      <th>2</th>\n",
       "      <td>2017-08-29</td>\n",
       "      <td>apartment</td>\n",
       "      <td>Palermo</td>\n",
       "      <td>|Argentina|Capital Federal|Palermo|</td>\n",
       "      <td>-34.577033</td>\n",
       "      <td>-58.423368</td>\n",
       "      <td>222000.00</td>\n",
       "      <td>52.0</td>\n",
       "      <td>48.0</td>\n",
       "      <td>1.0</td>\n",
       "      <td>https://www.properati.com.ar/1e05k_venta_depar...</td>\n",
       "      <td>PALERMO</td>\n",
       "      <td>0.0</td>\n",
       "      <td>1.0</td>\n",
       "      <td>0.0</td>\n",
       "      <td>4269.230769</td>\n",
       "    </tr>\n",
       "    <tr>\n",
       "      <th>3</th>\n",
       "      <td>2017-08-29</td>\n",
       "      <td>apartment</td>\n",
       "      <td>Palermo</td>\n",
       "      <td>|Argentina|Capital Federal|Palermo|</td>\n",
       "      <td>-34.595014</td>\n",
       "      <td>-58.427392</td>\n",
       "      <td>180000.00</td>\n",
       "      <td>70.0</td>\n",
       "      <td>70.0</td>\n",
       "      <td>3.0</td>\n",
       "      <td>https://www.properati.com.ar/1e0mq_venta_depar...</td>\n",
       "      <td>PALERMO</td>\n",
       "      <td>0.0</td>\n",
       "      <td>1.0</td>\n",
       "      <td>0.0</td>\n",
       "      <td>2571.428571</td>\n",
       "    </tr>\n",
       "    <tr>\n",
       "      <th>4</th>\n",
       "      <td>2017-08-30</td>\n",
       "      <td>house</td>\n",
       "      <td>Palermo Hollywood</td>\n",
       "      <td>|Argentina|Capital Federal|Palermo|Palermo Hol...</td>\n",
       "      <td>-34.579354</td>\n",
       "      <td>-58.436449</td>\n",
       "      <td>1200000.00</td>\n",
       "      <td>532.0</td>\n",
       "      <td>334.0</td>\n",
       "      <td>6.0</td>\n",
       "      <td>https://www.properati.com.ar/1e1ve_venta_casa_...</td>\n",
       "      <td>PALERMO</td>\n",
       "      <td>0.0</td>\n",
       "      <td>0.0</td>\n",
       "      <td>1.0</td>\n",
       "      <td>2255.639098</td>\n",
       "    </tr>\n",
       "    <tr>\n",
       "      <th>5</th>\n",
       "      <td>2017-08-30</td>\n",
       "      <td>house</td>\n",
       "      <td>Palermo</td>\n",
       "      <td>|Argentina|Capital Federal|Palermo|</td>\n",
       "      <td>-34.579354</td>\n",
       "      <td>-58.436449</td>\n",
       "      <td>1200000.00</td>\n",
       "      <td>532.0</td>\n",
       "      <td>334.0</td>\n",
       "      <td>6.0</td>\n",
       "      <td>https://www.properati.com.ar/1e1vf_venta_casa_...</td>\n",
       "      <td>PALERMO</td>\n",
       "      <td>0.0</td>\n",
       "      <td>0.0</td>\n",
       "      <td>1.0</td>\n",
       "      <td>2255.639098</td>\n",
       "    </tr>\n",
       "    <tr>\n",
       "      <th>...</th>\n",
       "      <td>...</td>\n",
       "      <td>...</td>\n",
       "      <td>...</td>\n",
       "      <td>...</td>\n",
       "      <td>...</td>\n",
       "      <td>...</td>\n",
       "      <td>...</td>\n",
       "      <td>...</td>\n",
       "      <td>...</td>\n",
       "      <td>...</td>\n",
       "      <td>...</td>\n",
       "      <td>...</td>\n",
       "      <td>...</td>\n",
       "      <td>...</td>\n",
       "      <td>...</td>\n",
       "      <td>...</td>\n",
       "    </tr>\n",
       "    <tr>\n",
       "      <th>13751</th>\n",
       "      <td>2017-12-17</td>\n",
       "      <td>apartment</td>\n",
       "      <td>Villa Soldati</td>\n",
       "      <td>|Argentina|Capital Federal|Villa Soldati|</td>\n",
       "      <td>-34.668970</td>\n",
       "      <td>-58.443897</td>\n",
       "      <td>49000.00</td>\n",
       "      <td>75.0</td>\n",
       "      <td>75.0</td>\n",
       "      <td>4.0</td>\n",
       "      <td>https://www.properati.com.ar/1j22x_venta_depar...</td>\n",
       "      <td>VILLA SOLDATI</td>\n",
       "      <td>0.0</td>\n",
       "      <td>1.0</td>\n",
       "      <td>0.0</td>\n",
       "      <td>653.333333</td>\n",
       "    </tr>\n",
       "    <tr>\n",
       "      <th>13752</th>\n",
       "      <td>2018-01-08</td>\n",
       "      <td>apartment</td>\n",
       "      <td>Villa Soldati</td>\n",
       "      <td>|Argentina|Capital Federal|Villa Soldati|</td>\n",
       "      <td>-34.668741</td>\n",
       "      <td>-58.443146</td>\n",
       "      <td>60000.00</td>\n",
       "      <td>55.0</td>\n",
       "      <td>55.0</td>\n",
       "      <td>3.0</td>\n",
       "      <td>https://www.properati.com.ar/1jcpm_venta_depar...</td>\n",
       "      <td>VILLA SOLDATI</td>\n",
       "      <td>0.0</td>\n",
       "      <td>1.0</td>\n",
       "      <td>0.0</td>\n",
       "      <td>1090.909091</td>\n",
       "    </tr>\n",
       "    <tr>\n",
       "      <th>13753</th>\n",
       "      <td>2018-01-23</td>\n",
       "      <td>house</td>\n",
       "      <td>Villa Soldati</td>\n",
       "      <td>|Argentina|Capital Federal|Villa Soldati|</td>\n",
       "      <td>-34.664170</td>\n",
       "      <td>-58.443317</td>\n",
       "      <td>99000.00</td>\n",
       "      <td>115.0</td>\n",
       "      <td>82.0</td>\n",
       "      <td>3.0</td>\n",
       "      <td>https://www.properati.com.ar/1k1hs_venta_casa_...</td>\n",
       "      <td>VILLA SOLDATI</td>\n",
       "      <td>0.0</td>\n",
       "      <td>0.0</td>\n",
       "      <td>1.0</td>\n",
       "      <td>860.869565</td>\n",
       "    </tr>\n",
       "    <tr>\n",
       "      <th>13754</th>\n",
       "      <td>2018-01-27</td>\n",
       "      <td>apartment</td>\n",
       "      <td>Villa Soldati</td>\n",
       "      <td>|Argentina|Capital Federal|Villa Soldati|</td>\n",
       "      <td>-34.665005</td>\n",
       "      <td>-58.443041</td>\n",
       "      <td>50433.01</td>\n",
       "      <td>45.0</td>\n",
       "      <td>45.0</td>\n",
       "      <td>3.0</td>\n",
       "      <td>https://www.properati.com.ar/1k5v0_venta_depar...</td>\n",
       "      <td>VILLA SOLDATI</td>\n",
       "      <td>0.0</td>\n",
       "      <td>1.0</td>\n",
       "      <td>0.0</td>\n",
       "      <td>1120.733556</td>\n",
       "    </tr>\n",
       "    <tr>\n",
       "      <th>13755</th>\n",
       "      <td>2018-01-27</td>\n",
       "      <td>apartment</td>\n",
       "      <td>Villa Lugano</td>\n",
       "      <td>|Argentina|Capital Federal|Villa Lugano|</td>\n",
       "      <td>-34.664283</td>\n",
       "      <td>-58.469604</td>\n",
       "      <td>75000.00</td>\n",
       "      <td>60.0</td>\n",
       "      <td>58.0</td>\n",
       "      <td>3.0</td>\n",
       "      <td>https://www.properati.com.ar/1k5x2_venta_depar...</td>\n",
       "      <td>VILLA SOLDATI</td>\n",
       "      <td>0.0</td>\n",
       "      <td>1.0</td>\n",
       "      <td>0.0</td>\n",
       "      <td>1250.000000</td>\n",
       "    </tr>\n",
       "  </tbody>\n",
       "</table>\n",
       "<p>12288 rows × 16 columns</p>\n",
       "</div>"
      ],
      "text/plain": [
       "      created_on property_type         place_name  \\\n",
       "1     2017-08-29     apartment            Palermo   \n",
       "2     2017-08-29     apartment            Palermo   \n",
       "3     2017-08-29     apartment            Palermo   \n",
       "4     2017-08-30         house  Palermo Hollywood   \n",
       "5     2017-08-30         house            Palermo   \n",
       "...          ...           ...                ...   \n",
       "13751 2017-12-17     apartment      Villa Soldati   \n",
       "13752 2018-01-08     apartment      Villa Soldati   \n",
       "13753 2018-01-23         house      Villa Soldati   \n",
       "13754 2018-01-27     apartment      Villa Soldati   \n",
       "13755 2018-01-27     apartment       Villa Lugano   \n",
       "\n",
       "                                 place_with_parent_names        lat  \\\n",
       "1                    |Argentina|Capital Federal|Palermo| -34.588912   \n",
       "2                    |Argentina|Capital Federal|Palermo| -34.577033   \n",
       "3                    |Argentina|Capital Federal|Palermo| -34.595014   \n",
       "4      |Argentina|Capital Federal|Palermo|Palermo Hol... -34.579354   \n",
       "5                    |Argentina|Capital Federal|Palermo| -34.579354   \n",
       "...                                                  ...        ...   \n",
       "13751          |Argentina|Capital Federal|Villa Soldati| -34.668970   \n",
       "13752          |Argentina|Capital Federal|Villa Soldati| -34.668741   \n",
       "13753          |Argentina|Capital Federal|Villa Soldati| -34.664170   \n",
       "13754          |Argentina|Capital Federal|Villa Soldati| -34.665005   \n",
       "13755           |Argentina|Capital Federal|Villa Lugano| -34.664283   \n",
       "\n",
       "             lon  price_aprox_usd  surface_total_in_m2  surface_covered_in_m2  \\\n",
       "1     -58.413494        340000.00                130.0                  120.0   \n",
       "2     -58.423368        222000.00                 52.0                   48.0   \n",
       "3     -58.427392        180000.00                 70.0                   70.0   \n",
       "4     -58.436449       1200000.00                532.0                  334.0   \n",
       "5     -58.436449       1200000.00                532.0                  334.0   \n",
       "...          ...              ...                  ...                    ...   \n",
       "13751 -58.443897         49000.00                 75.0                   75.0   \n",
       "13752 -58.443146         60000.00                 55.0                   55.0   \n",
       "13753 -58.443317         99000.00                115.0                   82.0   \n",
       "13754 -58.443041         50433.01                 45.0                   45.0   \n",
       "13755 -58.469604         75000.00                 60.0                   58.0   \n",
       "\n",
       "       rooms                                      properati_url  \\\n",
       "1        4.0  https://www.properati.com.ar/1dzv6_venta_depar...   \n",
       "2        1.0  https://www.properati.com.ar/1e05k_venta_depar...   \n",
       "3        3.0  https://www.properati.com.ar/1e0mq_venta_depar...   \n",
       "4        6.0  https://www.properati.com.ar/1e1ve_venta_casa_...   \n",
       "5        6.0  https://www.properati.com.ar/1e1vf_venta_casa_...   \n",
       "...      ...                                                ...   \n",
       "13751    4.0  https://www.properati.com.ar/1j22x_venta_depar...   \n",
       "13752    3.0  https://www.properati.com.ar/1jcpm_venta_depar...   \n",
       "13753    3.0  https://www.properati.com.ar/1k1hs_venta_casa_...   \n",
       "13754    3.0  https://www.properati.com.ar/1k5v0_venta_depar...   \n",
       "13755    3.0  https://www.properati.com.ar/1k5x2_venta_depar...   \n",
       "\n",
       "              barrio    0    1    2     price_m2  \n",
       "1            PALERMO  0.0  1.0  0.0  2615.384615  \n",
       "2            PALERMO  0.0  1.0  0.0  4269.230769  \n",
       "3            PALERMO  0.0  1.0  0.0  2571.428571  \n",
       "4            PALERMO  0.0  0.0  1.0  2255.639098  \n",
       "5            PALERMO  0.0  0.0  1.0  2255.639098  \n",
       "...              ...  ...  ...  ...          ...  \n",
       "13751  VILLA SOLDATI  0.0  1.0  0.0   653.333333  \n",
       "13752  VILLA SOLDATI  0.0  1.0  0.0  1090.909091  \n",
       "13753  VILLA SOLDATI  0.0  0.0  1.0   860.869565  \n",
       "13754  VILLA SOLDATI  0.0  1.0  0.0  1120.733556  \n",
       "13755  VILLA SOLDATI  0.0  1.0  0.0  1250.000000  \n",
       "\n",
       "[12288 rows x 16 columns]"
      ]
     },
     "execution_count": 32,
     "metadata": {},
     "output_type": "execute_result"
    }
   ],
   "source": [
    "df_faltantes = pd.DataFrame(df.isnull().sum() / df.shape[0], columns=['Porcentaje nulos'])\n",
    "df_faltantes.loc[~(df_faltantes==0).all(axis=1)]\n",
    "df"
   ]
  },
  {
   "cell_type": "code",
   "execution_count": 33,
   "metadata": {},
   "outputs": [
    {
     "name": "stdout",
     "output_type": "stream",
     "text": [
      "El dataset final luego del procesamiento tiene 12288 observaciones\n"
     ]
    }
   ],
   "source": [
    "print(\"El dataset final luego del procesamiento tiene {} observaciones\".format(df.shape[0]))"
   ]
  },
  {
   "cell_type": "markdown",
   "metadata": {},
   "source": [
    "De esta manera, han sido limpiados los valores extremos y han sido imputados los valores nulos. El costo de estas acciones fue la pérdida de 685 observaciones, es decir sólo el 5% de la cantidad original de filas."
   ]
  }
 ],
 "metadata": {
  "kernelspec": {
   "display_name": "Python 3",
   "language": "python",
   "name": "python3"
  },
  "language_info": {
   "codemirror_mode": {
    "name": "ipython",
    "version": 3
   },
   "file_extension": ".py",
   "mimetype": "text/x-python",
   "name": "python",
   "nbconvert_exporter": "python",
   "pygments_lexer": "ipython3",
   "version": "3.7.6"
  }
 },
 "nbformat": 4,
 "nbformat_minor": 2
}
